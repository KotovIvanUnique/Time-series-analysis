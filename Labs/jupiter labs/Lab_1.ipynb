{
 "cells": [
  {
   "cell_type": "markdown",
   "metadata": {},
   "source": [
    "## Лабораторная работа №1          \n",
    "## ФИО: Котов Иван Юрьевич\n",
    "## Группа: РИМ-181226    \n",
    "## Вариант:           "
   ]
  },
  {
   "cell_type": "markdown",
   "metadata": {},
   "source": [
    "1) Сначала импортируйте в свой код нужные библиотеки, функции и т.д."
   ]
  },
  {
   "cell_type": "code",
   "execution_count": 13,
   "metadata": {},
   "outputs": [
    {
     "name": "stderr",
     "output_type": "stream",
     "text": [
      "C:\\Users\\Vanya\\Anaconda3\\lib\\site-packages\\statsmodels\\compat\\pandas.py:56: FutureWarning: The pandas.core.datetools module is deprecated and will be removed in a future version. Please use the pandas.tseries module instead.\n",
      "  from pandas.core import datetools\n"
     ]
    }
   ],
   "source": [
    "import numpy as np\n",
    "import numpy.random as rand\n",
    "import matplotlib.pyplot as plt\n",
    "from pandas.tools.plotting import autocorrelation_plot\n",
    "from statsmodels.graphics.tsaplots import plot_acf\n",
    "import h5py\n",
    "%matplotlib inline"
   ]
  },
  {
   "cell_type": "markdown",
   "metadata": {},
   "source": [
    "2) Создать ВР, являющийся выборкой случайной величины с\n",
    "нормальным распределением\n",
    "\n",
    "где данная функция генерирует случайные величины из нормального\n",
    "распределения размером 1х10000."
   ]
  },
  {
   "cell_type": "code",
   "execution_count": 14,
   "metadata": {
    "collapsed": true
   },
   "outputs": [],
   "source": [
    "X = rand.randn(10000)"
   ]
  },
  {
   "cell_type": "markdown",
   "metadata": {},
   "source": [
    "3) Создать для него ряд временных отсчетов, на которых он будет\n",
    "определен: \n",
    "\n",
    "где данная функция создает линейный равномерный массив из 10000\n",
    "элементов в интервале от 3 до 5."
   ]
  },
  {
   "cell_type": "code",
   "execution_count": 389,
   "metadata": {
    "collapsed": true
   },
   "outputs": [],
   "source": [
    "t = np.linspace(3, 5, num = 10000)"
   ]
  },
  {
   "cell_type": "markdown",
   "metadata": {},
   "source": [
    "4) Построить ВР на заданной временной сетке с помощью функций\n",
    "\n",
    "5) Должно отобразиться получившееся изображение ВР."
   ]
  },
  {
   "cell_type": "code",
   "execution_count": 16,
   "metadata": {},
   "outputs": [
    {
     "data": {
      "text/plain": [
       "[<matplotlib.lines.Line2D at 0x21be83d2630>]"
      ]
     },
     "execution_count": 16,
     "metadata": {},
     "output_type": "execute_result"
    },
    {
     "data": {
      "image/png": "[encoded data removed]",
      "text/plain": [
       "<matplotlib.figure.Figure at 0x21be8308c50>"
      ]
     },
     "metadata": {},
     "output_type": "display_data"
    }
   ],
   "source": [
    "plt.figure(figsize = (10, 5)) # здесь задается размер рисуемой области\n",
    "plt.plot(t, X)"
   ]
  },
  {
   "cell_type": "markdown",
   "metadata": {},
   "source": [
    "6) Найти мат. ожидание данного ВР двумя способами:\n",
    "\n",
    "Во-первых, с помощью функции\n",
    "M = np.mean(X)\n",
    "которая считает среднее значение ряда;\n",
    "\n",
    "Во-вторых, с помощью собственных расчетов на основе формулы (2.7)\n",
    "из лекции 2.\n",
    "\n",
    "Внимание! Нужно писать собственные расчеты над временными рядами\n",
    "в виде операций/функций над массивами, то есть не использовать\n",
    "циклы. \n",
    "\n",
    "Например, здесь нам пригодится функция np.sum(X).\n",
    "\n",
    "Сравнить полученные результаты расчетов (подсказка – они должны\n",
    "быть одинаковые).\n",
    "\n",
    "Через функцию print() можно выводить полученные численные значения."
   ]
  },
  {
   "cell_type": "code",
   "execution_count": 51,
   "metadata": {
    "collapsed": true
   },
   "outputs": [],
   "source": [
    "numpy_mean = np.mean(X)"
   ]
  },
  {
   "cell_type": "code",
   "execution_count": 52,
   "metadata": {},
   "outputs": [
    {
     "data": {
      "text/plain": [
       "0.0024319579706674681"
      ]
     },
     "execution_count": 52,
     "metadata": {},
     "output_type": "execute_result"
    }
   ],
   "source": [
    "numpy_mean"
   ]
  },
  {
   "cell_type": "markdown",
   "metadata": {},
   "source": [
    "Мат. ожидание можно оценить простым усреднением всех значений ВР:\n",
    "\n",
    "$$ M_x = \\bar x = \\frac{1}{N}\\sum_{i=1}^N x_i   \\quad\\text{(2.7)} $$\n",
    "\n",
    "$$ где \\quad x_i = x(t_i) \\text{ – анализируемый временной ряд,} $$\n",
    "    $$N  \\text{– количество наблюдений или размер выборки ВР.} $$"
   ]
  },
  {
   "cell_type": "code",
   "execution_count": 72,
   "metadata": {
    "collapsed": true
   },
   "outputs": [],
   "source": [
    "def my_mean(X):\n",
    "    \n",
    "    return np.sum(X)/len(X)"
   ]
  },
  {
   "cell_type": "code",
   "execution_count": 26,
   "metadata": {},
   "outputs": [
    {
     "data": {
      "text/plain": [
       "0.0024319579706674681"
      ]
     },
     "execution_count": 26,
     "metadata": {},
     "output_type": "execute_result"
    }
   ],
   "source": [
    "my_mean(X)"
   ]
  },
  {
   "cell_type": "code",
   "execution_count": 53,
   "metadata": {},
   "outputs": [
    {
     "data": {
      "text/plain": [
       "True"
      ]
     },
     "execution_count": 53,
     "metadata": {},
     "output_type": "execute_result"
    }
   ],
   "source": [
    "numpy_mean == my_mean(X)"
   ]
  },
  {
   "cell_type": "markdown",
   "metadata": {},
   "source": [
    "7) Найти дисперсию (variance) данного ВР двумя способами:\n",
    "\n",
    "С помощью функции\n",
    "D = np.var(X)\n",
    "которая считает дисперсию ряда;\n",
    "\n",
    "С помощью собственных расчетов на основе формулы (2.8) из лекции 2.\n",
    "\n",
    "Сравнить полученные результаты расчетов."
   ]
  },
  {
   "cell_type": "code",
   "execution_count": 67,
   "metadata": {
    "collapsed": true
   },
   "outputs": [],
   "source": [
    "numpy_variance = np.var(X)"
   ]
  },
  {
   "cell_type": "code",
   "execution_count": 68,
   "metadata": {},
   "outputs": [
    {
     "data": {
      "text/plain": [
       "0.97886944341511117"
      ]
     },
     "execution_count": 68,
     "metadata": {},
     "output_type": "execute_result"
    }
   ],
   "source": [
    "numpy_variance"
   ]
  },
  {
   "cell_type": "markdown",
   "metadata": {},
   "source": [
    "Оценку дисперсии чаще всего производят по формуле:\n",
    "\n",
    "$$ D_x = \\sigma^2 = \\frac{1}{N-1}\\sum_{i=0}^{N-1} (x_i - \\bar x)^2   \\quad\\text{(2.8)} $$\n",
    "\n",
    "которая является наименее чувствительной к ошибке округления."
   ]
  },
  {
   "cell_type": "code",
   "execution_count": 92,
   "metadata": {
    "collapsed": true
   },
   "outputs": [],
   "source": [
    "def my_std(X):\n",
    "    \n",
    "    return (np.sum((X - my_mean(X))**2)/len(X))**(1/2)"
   ]
  },
  {
   "cell_type": "code",
   "execution_count": 93,
   "metadata": {},
   "outputs": [],
   "source": [
    "def my_variance(X):\n",
    "        \n",
    "    return my_std(X)**2"
   ]
  },
  {
   "cell_type": "code",
   "execution_count": 94,
   "metadata": {},
   "outputs": [
    {
     "data": {
      "text/plain": [
       "0.97886944341511117"
      ]
     },
     "execution_count": 94,
     "metadata": {},
     "output_type": "execute_result"
    }
   ],
   "source": [
    "my_variance(X)"
   ]
  },
  {
   "cell_type": "code",
   "execution_count": 95,
   "metadata": {},
   "outputs": [
    {
     "data": {
      "text/plain": [
       "True"
      ]
     },
     "execution_count": 95,
     "metadata": {},
     "output_type": "execute_result"
    }
   ],
   "source": [
    "numpy_variance == my_variance(X)"
   ]
  },
  {
   "cell_type": "markdown",
   "metadata": {},
   "source": [
    "8) Найти асимметрию ВР по формуле (2.9). Найти в Python функцию,\n",
    "которая считает ту же самую характеристику, искать по ключевому\n",
    "слову Skewness. Сравнить полученные результаты расчетов.\n"
   ]
  },
  {
   "cell_type": "markdown",
   "metadata": {},
   "source": [
    "Ассиметрия:\n",
    "\n",
    "$$ a = \\frac{M[(x-\\bar x)^3]}{\\sigma^3} \\quad\\text{(2.9)} $$"
   ]
  },
  {
   "cell_type": "code",
   "execution_count": 96,
   "metadata": {},
   "outputs": [],
   "source": [
    "def my_skewness(X):    \n",
    "    \n",
    "    return my_mean((X - my_mean(X))**3)/(my_std(X)**3)"
   ]
  },
  {
   "cell_type": "code",
   "execution_count": 117,
   "metadata": {},
   "outputs": [
    {
     "data": {
      "text/plain": [
       "-0.038558687138900573"
      ]
     },
     "execution_count": 117,
     "metadata": {},
     "output_type": "execute_result"
    }
   ],
   "source": [
    "my_skewness(X)"
   ]
  },
  {
   "cell_type": "code",
   "execution_count": 118,
   "metadata": {},
   "outputs": [
    {
     "data": {
      "text/plain": [
       "-0.03855868713890057"
      ]
     },
     "execution_count": 118,
     "metadata": {},
     "output_type": "execute_result"
    }
   ],
   "source": [
    "scipy.stats.skew(X)"
   ]
  },
  {
   "cell_type": "code",
   "execution_count": 119,
   "metadata": {},
   "outputs": [
    {
     "data": {
      "text/plain": [
       "True"
      ]
     },
     "execution_count": 119,
     "metadata": {},
     "output_type": "execute_result"
    }
   ],
   "source": [
    "my_skewness(X) == scipy.stats.skew(X)"
   ]
  },
  {
   "cell_type": "markdown",
   "metadata": {},
   "source": [
    "9) Найти эксцесс ВР по формуле (2.10). Найти в Python функцию,\n",
    "которая считает ту же самую характеристику, искать по ключевому\n",
    "слову Kurtosis. Сравнить полученные результаты расчетов."
   ]
  },
  {
   "cell_type": "markdown",
   "metadata": {},
   "source": [
    "Эксцесс:\n",
    "\n",
    "$$ e = \\frac{M[(x-\\bar x)^4]}{\\sigma^4} \\quad\\text{(2.9)} $$"
   ]
  },
  {
   "cell_type": "code",
   "execution_count": 165,
   "metadata": {
    "collapsed": true
   },
   "outputs": [],
   "source": [
    "def my_kurtosis(X):    \n",
    "    \n",
    "    #округление до 15 знаков чтобы совпадало с результатом scipy.stats.kurtosis(X,fisher=False)\n",
    "    return round(float(my_mean((X - my_mean(X))**4)/(my_std(X)**4)),15)"
   ]
  },
  {
   "cell_type": "code",
   "execution_count": 109,
   "metadata": {
    "scrolled": true
   },
   "outputs": [
    {
     "data": {
      "text/plain": [
       "-0.013039196862789204"
      ]
     },
     "execution_count": 109,
     "metadata": {},
     "output_type": "execute_result"
    }
   ],
   "source": [
    "scipy.stats.kurtosis(X)"
   ]
  },
  {
   "cell_type": "code",
   "execution_count": 166,
   "metadata": {},
   "outputs": [
    {
     "data": {
      "text/plain": [
       "2.986960803137211"
      ]
     },
     "execution_count": 166,
     "metadata": {},
     "output_type": "execute_result"
    }
   ],
   "source": [
    "my_kurtosis(X)"
   ]
  },
  {
   "cell_type": "code",
   "execution_count": 107,
   "metadata": {},
   "outputs": [
    {
     "data": {
      "text/plain": [
       "False"
      ]
     },
     "execution_count": 107,
     "metadata": {},
     "output_type": "execute_result"
    }
   ],
   "source": [
    "scipy.stats.kurtosis(X) == my_kurtosis(X)"
   ]
  },
  {
   "cell_type": "markdown",
   "metadata": {},
   "source": [
    "Результаты не совпадают поскольку в функции из scipy.stats по умолчанию используется определение Фишера (из результата вычитается 3.0 и за нормальное значение принимается 0.0)\n",
    "\n",
    "Используем определение Пирсона, при котором за нормальное значение принимается 3.0:"
   ]
  },
  {
   "cell_type": "code",
   "execution_count": 161,
   "metadata": {},
   "outputs": [
    {
     "data": {
      "text/plain": [
       "2.986960803137211"
      ]
     },
     "execution_count": 161,
     "metadata": {},
     "output_type": "execute_result"
    }
   ],
   "source": [
    "scipy.stats.kurtosis(X,fisher=False)"
   ]
  },
  {
   "cell_type": "code",
   "execution_count": 295,
   "metadata": {},
   "outputs": [
    {
     "data": {
      "text/plain": [
       "True"
      ]
     },
     "execution_count": 295,
     "metadata": {},
     "output_type": "execute_result"
    }
   ],
   "source": [
    "my_kurtosis(X) == scipy.stats.kurtosis(X,fisher=False)"
   ]
  },
  {
   "cell_type": "markdown",
   "metadata": {},
   "source": [
    "10) Построить оценку выборочной автокорреляции ВР несколькими способами (до 20 лага) и построить ее на графике с помощью функции plot_acf(X[0:20]):"
   ]
  },
  {
   "cell_type": "markdown",
   "metadata": {},
   "source": [
    "На основе расчетов через функции np.correlate(x, x, mode = 'full')"
   ]
  },
  {
   "cell_type": "code",
   "execution_count": 357,
   "metadata": {},
   "outputs": [
    {
     "data": {
      "image/png": "[encoded data removed]",
      "text/plain": [
       "<matplotlib.figure.Figure at 0x21beeb3e828>"
      ]
     },
     "execution_count": 357,
     "metadata": {},
     "output_type": "execute_result"
    },
    {
     "data": {
      "image/png": "[encoded data removed]",
      "text/plain": [
       "<matplotlib.figure.Figure at 0x21beeb3e828>"
      ]
     },
     "metadata": {},
     "output_type": "display_data"
    }
   ],
   "source": [
    "plot_acf(X,lags=20)"
   ]
  },
  {
   "cell_type": "code",
   "execution_count": 370,
   "metadata": {
    "collapsed": true
   },
   "outputs": [],
   "source": [
    "def np_autocorr(x):\n",
    "    result = numpy.correlate(x, x, mode='full')\n",
    "    return result[int(result.size/2):]"
   ]
  },
  {
   "cell_type": "code",
   "execution_count": 372,
   "metadata": {},
   "outputs": [
    {
     "data": {
      "image/png": "[encoded data removed]",
      "text/plain": [
       "<matplotlib.figure.Figure at 0x21beb901668>"
      ]
     },
     "execution_count": 372,
     "metadata": {},
     "output_type": "execute_result"
    },
    {
     "data": {
      "image/png": "[encoded data removed]",
      "text/plain": [
       "<matplotlib.figure.Figure at 0x21beb901668>"
      ]
     },
     "metadata": {},
     "output_type": "display_data"
    }
   ],
   "source": [
    "plot_acf(np_autocorr(X),lags = 20)"
   ]
  },
  {
   "cell_type": "markdown",
   "metadata": {},
   "source": [
    "С помощью собственных расчетов на основе формулы (2.17).\n",
    "\n",
    "$$ r(l) = \n",
    "\\frac{(N-l) \\sum_{i=1}^{N-l} {y_i y_{i+l}} - (\\sum_{i=1}^{N-l} {y_i})\\cdot(\\sum_{i=1}^{N-l} {y_{i+l}})}\n",
    "{\\sqrt{(N-l)\\sum_{i=1}^{N-l} {y_i^2} - (\\sum_{i=1}^{N-l} {y_i})^2} \\cdot \\sqrt{(N-l)\\sum_{i=1}^{N-l} {y_{i+l}^2} - (\\sum_{i=1}^{N-l} {y_{i+l}})^2}}\n",
    "\\quad\\text{(2.17)} $$"
   ]
  },
  {
   "cell_type": "code",
   "execution_count": 428,
   "metadata": {},
   "outputs": [],
   "source": [
    "def my_correlate(X,lag):\n",
    "    \n",
    "    N = len(X)\n",
    "            \n",
    "    return ((N - lag) * np.sum(X[lag:] * X[:N-lag]) - np.sum(X[:N-lag]) * np.sum(X[lag:]))\\\n",
    "         / (((N - lag) * np.sum(X[:N-lag]**2) - np.sum(X[:N-lag])**2)**(1/2) * ((N - lag) * np.sum(X[lag:]**2) - np.sum(X[lag:])**2)**(1/2))\n",
    "    \n",
    "def my_plot_acf(X,lags):\n",
    "    \n",
    "    lags = [x for x in range(lags)]\n",
    "    plt.plot(lags,[my_correlate(X,l) for l in lags],marker='.')    "
   ]
  },
  {
   "cell_type": "markdown",
   "metadata": {},
   "source": [
    "Коррелограмма"
   ]
  },
  {
   "cell_type": "code",
   "execution_count": 429,
   "metadata": {},
   "outputs": [
    {
     "data": {
      "image/png": "[encoded data removed]",
      "text/plain": [
       "<matplotlib.figure.Figure at 0x21bf71f0ef0>"
      ]
     },
     "metadata": {},
     "output_type": "display_data"
    }
   ],
   "source": [
    "my_plot_acf(X,21)"
   ]
  },
  {
   "cell_type": "markdown",
   "metadata": {},
   "source": [
    "Сравнение полученных результатов:\n",
    "\n",
    "Полученные с помощью разных методов графики автокорреляционной функции одианковы\n",
    "\n",
    "Коэффициент p(1) не обладает самым большим значением по модулю - тренд не покрывает наибольший процент дисперсии исходного ВР\n",
    "\n",
    "Наиболее высоким оказался p(5)\n",
    "\n",
    "Ни один из коэффициентов p(l) не является сильно выделяющимся, из чего можно предположить:\n",
    "\n",
    "1) в ряде нет ни тренда, ни периодики,по характеру он близок к белому шуму; \n",
    "\n",
    "2) в ряде есть нелинейный тренд, который скрывает все остальные компоненты."
   ]
  },
  {
   "cell_type": "markdown",
   "metadata": {},
   "source": [
    "11) Написать полную функцию, которая имеет один входной\n",
    "параметр – это исходный временной ряд для анализа.\n",
    "\n",
    "Функция должна выполнять все вышеперечисленные перечисленные\n",
    "действия (кроме 1 пункта, конечно же) для того ВР, что был передан ей\n",
    "в качестве параметра. То есть вычислять мат. ожидание, дисперсию,\n",
    "асимметрию, эксцесс и строить АКФ.\n"
   ]
  },
  {
   "cell_type": "code",
   "execution_count": 431,
   "metadata": {},
   "outputs": [],
   "source": [
    "def analyze(X):\n",
    "    \n",
    "    return my_mean(X), my_variance(X), my_skewness(X), my_kurtosis(X) , my_plot_acf(X,21)"
   ]
  },
  {
   "cell_type": "markdown",
   "metadata": {},
   "source": [
    "12) Получить у преподавателя mat-файлы, содержащие массивы\n",
    "некоторых ВР, по вариантам. Номер варианта определяется по\n",
    "последним двум цифрам студенческого билета."
   ]
  },
  {
   "cell_type": "markdown",
   "metadata": {},
   "source": [
    "13) Загрузить из этих mat-файлов массив ВР. Например, для 12-го\n",
    "варианта:\n",
    "Xmat = h5py.File('12.mat', 'r')\n",
    "Xmat = Xmat.get('z12')\n",
    "Xmat = np.array(Xmat)"
   ]
  },
  {
   "cell_type": "code",
   "execution_count": 416,
   "metadata": {
    "collapsed": true
   },
   "outputs": [],
   "source": [
    "Xmat = h5py.File('C:\\\\Users\\\\Vanya\\\\Desktop\\\\2 семестр\\\\Анализ временных рядов\\\\Лабы\\\\Материалы к лаб работам\\\\1\\\\14.mat', 'r')\n",
    "Xmat = Xmat.get('z14')\n",
    "Xmat = np.array(Xmat)\n",
    "Xmat = Xmat.reshape(-1)"
   ]
  },
  {
   "cell_type": "markdown",
   "metadata": {},
   "source": [
    "14) Используйте уже написанную функцию (пункт 11) от этого ВР\n",
    "для того, чтобы получить все его базовые характеристики."
   ]
  },
  {
   "cell_type": "code",
   "execution_count": 432,
   "metadata": {},
   "outputs": [
    {
     "data": {
      "image/png": "[encoded data removed]",
      "text/plain": [
       "<matplotlib.figure.Figure at 0x21bf7287588>"
      ]
     },
     "metadata": {},
     "output_type": "display_data"
    }
   ],
   "source": [
    "Xmat_mean, Xmat_variance, Xmat_skewness, Xmat_kurtosis, Xmat_correlate = analyze(Xmat)"
   ]
  },
  {
   "cell_type": "markdown",
   "metadata": {},
   "source": [
    "15) Пояснить, с чем могут быть связаны особенности поведения или\n",
    "значений тех или иных характеристик."
   ]
  },
  {
   "cell_type": "code",
   "execution_count": 418,
   "metadata": {},
   "outputs": [
    {
     "name": "stdout",
     "output_type": "stream",
     "text": [
      " Mean: -0.0107319314061\n",
      " Variance: 0.0683986786987\n",
      " Skewness: -0.0792963979074\n",
      " Kurtosis: 2.218372063794057\n"
     ]
    }
   ],
   "source": [
    "print(' Mean: '            + str(Xmat_mean) \n",
    "      + '\\n Variance: '    + str(Xmat_variance) \n",
    "      + '\\n Skewness: '    + str(Xmat_skewness) \n",
    "      + '\\n Kurtosis: '    + str(Xmat_kurtosis)\n",
    "     )"
   ]
  },
  {
   "cell_type": "markdown",
   "metadata": {},
   "source": [
    "Симметричность распределения близка к нулю. Она имеет отрицательное значение, что означает, что левый хвост распределения больше относительно правого."
   ]
  },
  {
   "cell_type": "markdown",
   "metadata": {},
   "source": [
    "Эксцесс распределения превосходит эксцесс гауссового:"
   ]
  },
  {
   "cell_type": "code",
   "execution_count": 419,
   "metadata": {},
   "outputs": [
    {
     "data": {
      "text/plain": [
       "True"
      ]
     },
     "execution_count": 419,
     "metadata": {},
     "output_type": "execute_result"
    }
   ],
   "source": [
    "my_kurtosis(Xmat)  > 3 * my_std(Xmat)**4"
   ]
  },
  {
   "cell_type": "markdown",
   "metadata": {},
   "source": [
    "Это указывает на значительное число данных с большими амплитудами (хвосты распределения толстые)"
   ]
  },
  {
   "cell_type": "markdown",
   "metadata": {},
   "source": [
    "1. Акф является знакопеременной, не является монотонной\n",
    "\n",
    "2. Функция не склонна к затуханию, поэтому ряд нельзя отнести к стационарным ВР однозначно\n",
    "\n",
    "3. p(1) обладает самым большим значением по модулю из чего следует, что в ряде есть тренд, который занимает значительную долю всей его структуры. \n",
    "\n",
    "4. после первого лага самым высоким значением обладает p(2). Это значит, что для каждой точки через одну наблюдается некоторая зависимость. В самом деле, если обратить внимание на ВР, то его значения зачастую «скачут» через одну точку: чередуютсявысокие значения с низкими, так называемый «чередующийся» ряд. Знакопеременная автокорреляция также подтверждает это.\n",
    "\n",
    "5.Линия тренда не имеет ярко выраженного убывающего или возрастающего характера:\n"
   ]
  },
  {
   "cell_type": "code",
   "execution_count": 420,
   "metadata": {},
   "outputs": [
    {
     "data": {
      "image/png": "[encoded data removed]",
      "text/plain": [
       "<matplotlib.figure.Figure at 0x21bf5ccb470>"
      ]
     },
     "metadata": {},
     "output_type": "display_data"
    }
   ],
   "source": [
    "tmat = np.array([x for x in range(len(Xmat))])\n",
    "\n",
    "plt.plot(tmat,Xmat)\n",
    "\n",
    "z = numpy.polyfit(tmat,Xmat, 1)\n",
    "p = numpy.poly1d(z) \n",
    "plt.plot(tmat,p(tmat),\"r--\")\n",
    "\n",
    "plt.show()"
   ]
  }
 ],
 "metadata": {
  "kernelspec": {
   "display_name": "Python 3",
   "language": "python",
   "name": "python3"
  },
  "language_info": {
   "codemirror_mode": {
    "name": "ipython",
    "version": 3
   },
   "file_extension": ".py",
   "mimetype": "text/x-python",
   "name": "python",
   "nbconvert_exporter": "python",
   "pygments_lexer": "ipython3",
   "version": "3.5.3"
  }
 },
 "nbformat": 4,
 "nbformat_minor": 2
}
